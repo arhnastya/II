{
 "cells": [
  {
   "cell_type": "markdown",
   "metadata": {},
   "source": [
    "# Лабораторная работа №5. Алгоритмы кластеризации данных\n",
    "## Общее задание\n",
    "\n",
    "Перед выполнением лабораторной работы необходимо загрузить набор данных в соответствии с вариантом на диск.\n",
    "\n",
    "1. Произвести масштабирование признаков (scaling).\n",
    "2. С использованием библиотеки scikit-learn написать программу с использованием алгоритмов кластеризации данных, позволяющую разделить исходную выборку на классы, соответствующие предложенной вариантом задаче (http://scikit-learn.org/stable/modules/clustering.html).\n",
    "3. Провести эксперименты и определить наилучший алгоритм кластеризации, параметры алгоритма. Необходимо использовать не менее 3-х алгоритмов. Данные экспериментов необходимо представить в отчете (графики, ход проведения эксперимента, выводы).\n",
    "\n",
    "\n",
    "## Варианты\n",
    "Массивы данных берутся из UCI Machine Learning Repository\n",
    "\n",
    "Вариант определяется набором данных, который можно загрузить по ссылке выше:\n",
    "1. Sponge\n",
    "2. Water Treatment Plant\n",
    "3. Synthetic Control Chart Time Series\n",
    "4. Character Trajectories\n",
    "5. Plants\n",
    "6. Libras Movement\n",
    "7. KEGG Metabolic Relation Network (Directed)\n",
    "8. SMS Spam Collection\n",
    "9. seeds\n",
    "10. Human Activity Recognition Using Smartphones\n",
    "11. User Knowledge Modeling\n",
    "12. NYSK\n",
    "13. Activities of Daily Living (ADLs) Recognition Using Binary Sensors\n",
    "14. Dresses_Attribute_Sales\n",
    "15. Wholesale customers\n",
    "16. StoneFlakes\n",
    "17. Gesture Phase Segmentation\n",
    "18. AAAI 2014 Accepted Papers\n",
    "19. Dow Jones Index\n",
    "20. AAAI 2013 Accepted Papers\n",
    "21. wiki4HE\n",
    "22. Folio\n",
    "23. Mice Protein Expression\n",
    "24. Improved Spiral Test Using Digitized Graphics Tablet for Monitoring Parkinson’s Disease"
   ]
  },
  {
   "cell_type": "markdown",
   "metadata": {},
   "source": [
    "## Вариант 2\n"
   ]
  },
  {
   "cell_type": "code",
   "execution_count": 22,
   "metadata": {},
   "outputs": [],
   "source": [
    "import numpy as np\n",
    "import pandas as pd\n",
    "from sklearn import preprocessing\n",
    "from sklearn.metrics import normalized_mutual_info_score\n",
    "from sklearn.cluster import KMeans\n",
    "from sklearn.cluster import MiniBatchKMeans\n",
    "from sklearn.cluster import AffinityPropagation"
   ]
  },
  {
   "cell_type": "markdown",
   "metadata": {},
   "source": [
    "Загрузка данных."
   ]
  },
  {
   "cell_type": "code",
   "execution_count": 23,
   "metadata": {},
   "outputs": [],
   "source": [
    "df = pd.read_csv('dataset.csv')\n",
    "x_data = np.array(df.drop('class', axis=1)) \n",
    "y_data = np.array(df['class']) \n",
    "\n",
    "class_names = ['Kama', 'Rosa', 'Canadian'] # Названия классов"
   ]
  },
  {
   "cell_type": "markdown",
   "metadata": {},
   "source": [
    "1. Произвести масштабирование признаков (scaling)."
   ]
  },
  {
   "cell_type": "code",
   "execution_count": 24,
   "metadata": {},
   "outputs": [],
   "source": [
    "scaler = preprocessing.StandardScaler()\n",
    "x_data = scaler.fit_transform(x_data)"
   ]
  },
  {
   "cell_type": "markdown",
   "metadata": {},
   "source": [
    "2. С использованием библиотеки scikit-learn написать программу с использованием алгоритмов кластеризации данных, позволяющую разделить исходную выборку на классы, соответствующие предложенной вариантом задаче."
   ]
  },
  {
   "cell_type": "code",
   "execution_count": 25,
   "metadata": {},
   "outputs": [
    {
     "name": "stdout",
     "output_type": "stream",
     "text": [
      "[2 2 2 2 2 2 2 2 1 1 2 2 2 2 2 2 2 2 2 0 2 2 2 2 2 2 2 2 2 2 2 2 2 2 2 2 2\n",
      " 1 2 2 2 2 2 2 2 2 2 2 2 2 2 2 2 2 2 2 2 2 2 2 0 2 2 2 2 2 2 2 2 0 1 1 1 1\n",
      " 1 1 1 1 1 1 1 1 1 1 1 1 1 1 1 1 1 1 1 1 1 1 1 1 1 1 1 1 1 1 1 1 1 1 1 1 1\n",
      " 1 1 1 1 1 1 1 1 1 1 1 1 1 2 1 1 1 1 1 1 1 1 1 1 2 1 1 2 1 0 0 0 0 0 0 0 0\n",
      " 0 0 0 0 0 0 0 0 0 0 0 0 0 0 0 0 0 2 0 0 0 0 0 0 0 0 0 0 0 0 0 2 0 0 0 0 0\n",
      " 0 0 0 0 0 0 0 2 0 0 2 0 2 0 2 0 2 0 0 0 2 0 0 0 0]\n",
      "Точность кластеризации KMeans:  0.7307315088111603\n",
      "Точность кластеризации MiniBatchKMeans:  0.7307315088111603\n",
      "Точность кластеризации AffinityPropagation:  0.49702914705936635\n"
     ]
    }
   ],
   "source": [
    "#KMeans\n",
    "kmeans = KMeans(n_clusters=3)\n",
    "kmeans.fit(x_data)\n",
    "kmeans_score = normalized_mutual_info_score(y_data, kmeans.labels_)\n",
    "\n",
    "print(kmeans.labels_)\n",
    "\n",
    "print(\"Точность кластеризации KMeans: \", kmeans_score)\n",
    "\n",
    "#MiniBatchKMeans\n",
    "mini_batch_kmeans = MiniBatchKMeans(n_clusters=3)\n",
    "mini_batch_kmeans.fit(x_data)\n",
    "mini_batch_kmeans_score = normalized_mutual_info_score(y_data, mini_batch_kmeans.labels_)\n",
    "\n",
    "print(\"Точность кластеризации MiniBatchKMeans: \", kmeans_score)\n",
    "\n",
    "#AffinityPropagation\n",
    "affinity_propagation = AffinityPropagation()\n",
    "affinity_propagation.fit(x_data)\n",
    "affinity_propagation_score = normalized_mutual_info_score(y_data, affinity_propagation.labels_)\n",
    "\n",
    "print(\"Точность кластеризации AffinityPropagation: \", affinity_propagation_score)"
   ]
  },
  {
   "cell_type": "markdown",
   "metadata": {},
   "source": [
    "3. Провести эксперименты и определить наилучший алгоритм кластеризации, параметры алгоритма. Необходимо использовать не менее 3-х алгоритмов. Данные экспериментов необходимо представить в отчете (графики, ход проведения эксперимента, выводы)."
   ]
  },
  {
   "cell_type": "markdown",
   "metadata": {},
   "source": [
    "#### Подбор параметров для KMeans."
   ]
  },
  {
   "cell_type": "code",
   "execution_count": 26,
   "metadata": {},
   "outputs": [
    {
     "name": "stdout",
     "output_type": "stream",
     "text": [
      "Лучшая точность KMeans:  0.750181981646104\n",
      "Лучшее значение параметра n_clusters:  3\n",
      "Лучшее значение параметра n_init:  7\n"
     ]
    }
   ],
   "source": [
    "best_n_clusters = 1\n",
    "best_n_init = 1\n",
    "best_kmeans_score = -1e20\n",
    "for n_clusters in range(1, 5):\n",
    "    for n_init in range(1, 20):\n",
    "        kmeans = KMeans(n_clusters=n_clusters, n_init=n_init)\n",
    "        kmeans.fit(x_data)\n",
    "        kmeans_score = normalized_mutual_info_score(y_data, kmeans.labels_)\n",
    "        \n",
    "        if kmeans_score > best_kmeans_score:\n",
    "            best_kmeans_score = kmeans_score\n",
    "            best_n_clusters = n_clusters\n",
    "            best_n_init = n_init\n",
    "\n",
    "print('Лучшая точность KMeans: ', best_kmeans_score)\n",
    "print('Лучшее значение параметра n_clusters: ', best_n_clusters)\n",
    "print('Лучшее значение параметра n_init: ', best_n_init)"
   ]
  },
  {
   "cell_type": "markdown",
   "metadata": {},
   "source": [
    "#### Подбор параметров для MiniBatchKMeans."
   ]
  },
  {
   "cell_type": "code",
   "execution_count": 27,
   "metadata": {},
   "outputs": [
    {
     "name": "stdout",
     "output_type": "stream",
     "text": [
      "Лучшая точность MiniBatchKMeans:  0.7630377164150979\n",
      "Лучшее значение параметра n_clusters:  3\n",
      "Лучшее значение параметра n_init:  18\n"
     ]
    }
   ],
   "source": [
    "best_n_clusters = 1\n",
    "best_n_init = 1\n",
    "best_mini_batch_kmeans_score = -1e20\n",
    "for n_clusters in range(1, 5):\n",
    "    for n_init in range(1, 20):\n",
    "        mini_batch_kmeans = MiniBatchKMeans(n_clusters=n_clusters, n_init=n_init)\n",
    "        mini_batch_kmeans.fit(x_data)\n",
    "        mini_batch_kmeans_score = normalized_mutual_info_score(y_data, mini_batch_kmeans.labels_)\n",
    "        \n",
    "        if mini_batch_kmeans_score > best_mini_batch_kmeans_score:\n",
    "            best_mini_batch_kmeans_score = mini_batch_kmeans_score\n",
    "            best_n_clusters = n_clusters\n",
    "            best_n_init = n_init\n",
    "\n",
    "print('Лучшая точность MiniBatchKMeans: ', best_mini_batch_kmeans_score)\n",
    "print('Лучшее значение параметра n_clusters: ', best_n_clusters)\n",
    "print('Лучшее значение параметра n_init: ', best_n_init)"
   ]
  },
  {
   "cell_type": "markdown",
   "metadata": {},
   "source": [
    "#### Подбор параметров для AffinityPropagation."
   ]
  },
  {
   "cell_type": "code",
   "execution_count": 28,
   "metadata": {},
   "outputs": [
    {
     "name": "stdout",
     "output_type": "stream",
     "text": [
      "Лучшая точность AffinityPropagation:  0.6830524671669383\n",
      "Лучшее значение параметра damping:  0.7526315789473685\n",
      "Лучшее значение параметра preference:  -50.0\n"
     ]
    }
   ],
   "source": [
    "best_damping = 1\n",
    "best_preference = 1\n",
    "best_affinity_propagation_score = -1e20\n",
    "for damping in np.linspace(0.5, 0.8, 20):\n",
    "    for preference in np.linspace(-50, 50, 20):\n",
    "        affinity_propagation = AffinityPropagation(damping=damping, preference=preference)\n",
    "        affinity_propagation.fit(x_data)\n",
    "        affinity_propagation_score = normalized_mutual_info_score(y_data, affinity_propagation.labels_)\n",
    "        \n",
    "        if affinity_propagation_score > best_affinity_propagation_score:\n",
    "            best_affinity_propagation_score = affinity_propagation_score\n",
    "            best_damping = damping\n",
    "            best_preference = preference\n",
    "\n",
    "print('Лучшая точность AffinityPropagation: ', best_affinity_propagation_score)\n",
    "print('Лучшее значение параметра damping: ', best_damping)\n",
    "print('Лучшее значение параметра preference: ', best_preference)"
   ]
  },
  {
   "cell_type": "markdown",
   "metadata": {},
   "source": [
    "#### Вывод"
   ]
  },
  {
   "cell_type": "code",
   "execution_count": 29,
   "metadata": {},
   "outputs": [
    {
     "name": "stdout",
     "output_type": "stream",
     "text": [
      "Точность метода KMeans: 0.750181981646104\n",
      "Точность метода MiniBatchKMeans: 0.7630377164150979\n",
      "Точность метода AffinityPropagation: 0.6830524671669383\n",
      "\n",
      "Итог: лучшим оказался метод MiniBatchKMeans\n"
     ]
    }
   ],
   "source": [
    "method_name = ['KMeans', 'MiniBatchKMeans', 'AffinityPropagation']\n",
    "scores = [best_kmeans_score, best_mini_batch_kmeans_score, best_affinity_propagation_score]\n",
    "best_method_name = method_name[np.argmax(scores)]\n",
    "\n",
    "for id, name in enumerate(method_name):\n",
    "    print(f'Точность метода {name}: {scores[id]}')\n",
    "\n",
    "print(f'\\nИтог: лучшим оказался метод {best_method_name}')"
   ]
  }
 ],
 "metadata": {
  "kernelspec": {
   "display_name": "Python 3",
   "language": "python",
   "name": "python3"
  },
  "language_info": {
   "codemirror_mode": {
    "name": "ipython",
    "version": 3
   },
   "file_extension": ".py",
   "mimetype": "text/x-python",
   "name": "python",
   "nbconvert_exporter": "python",
   "pygments_lexer": "ipython3",
   "version": "3.11.4"
  }
 },
 "nbformat": 4,
 "nbformat_minor": 2
}
